{
 "cells": [
  {
   "cell_type": "code",
   "execution_count": 1,
   "id": "dba3bc17",
   "metadata": {},
   "outputs": [
    {
     "name": "stdout",
     "output_type": "stream",
     "text": [
      "Accessories downloaded\n",
      "Generator imported\n",
      "Models imported\n",
      "Processor imported\n"
     ]
    }
   ],
   "source": [
    "import torch\n",
    "import torch.nn as nn\n",
    "import torch.optim as optim\n",
    "from torchsummary import summary\n",
    "from torch.utils.data import DataLoader\n",
    "\n",
    "import gensim.downloader\n",
    "\n",
    "print('Accessories downloaded')\n",
    "\n",
    "from tools.generator import NLPDataset\n",
    "print('Generator imported')\n",
    "from tools.custom_models import RNN,LSTM\n",
    "print('Models imported')\n",
    "from tools.processor_functions import train_with_translate,evaluate_with_translate,generate\n",
    "print('Processor imported')\n"
   ]
  },
  {
   "cell_type": "code",
   "execution_count": 7,
   "id": "5b679039",
   "metadata": {},
   "outputs": [
    {
     "name": "stdout",
     "output_type": "stream",
     "text": [
      "Starting training_script.py\n",
      "tool generator import done\n",
      "tool model imports done\n",
      "tool train import done\n",
      "tool val import done\n",
      "Imports done\n",
      "Datasets computed\n",
      "Dataloaders ready\n",
      "W2v model loaded\n",
      "cuda:0\n",
      "The model has 21,294,576 trainable parameters\n",
      "  0%|                                                | 0/384639 [00:00<?, ?it/s]899.7579345703125\n"
     ]
    }
   ],
   "source": [
    "!python3 training_script.py"
   ]
  },
  {
   "cell_type": "code",
   "execution_count": 2,
   "id": "e2225c45",
   "metadata": {},
   "outputs": [
    {
     "name": "stdout",
     "output_type": "stream",
     "text": [
      "Datasets computed\n"
     ]
    }
   ],
   "source": [
    "train_ds = NLPDataset('data/train_1.pt')\n",
    "val_ds = NLPDataset('data/val.pt')\n",
    "print('Datasets computed')\n",
    "\n",
    "train_loader = DataLoader(train_ds)\n",
    "val_loader = DataLoader(val_ds)"
   ]
  },
  {
   "cell_type": "code",
   "execution_count": 3,
   "id": "8bb747bf",
   "metadata": {},
   "outputs": [
    {
     "name": "stdout",
     "output_type": "stream",
     "text": [
      "cuda:0\n",
      "The model has 180,600 trainable parameters\n"
     ]
    }
   ],
   "source": [
    "device = torch.device(\"cuda:0\" if torch.cuda.is_available() else \"cpu\")\n",
    "print(device)\n",
    "\n",
    "n_epochs = 10\n",
    "feature_num = 300\n",
    "\n",
    "model = RNN(input_size = feature_num,hidden_size = feature_num).to(device) \n",
    "n_hidden = 1\n",
    "\n",
    "'''model = nn.LSTM(input_size = 300,hidden_size = 300,batch_first = True).to(device)\n",
    "n_hidden = 2'''\n",
    "\n",
    "'''model = nn.Transformer(batch_first = True,nhead=10,d_model=feature_num).to(device)\n",
    "n_hidden = 0'''\n",
    "\n",
    "\n",
    "lr = 10e-5\n",
    "optimizer = optim.AdamW(model.parameters(), lr=lr) \n",
    "criterion = nn.MSELoss(reduction='sum')\n",
    "num_params = sum(p.numel() for p in model.parameters() if p.requires_grad)\n",
    "print(f'The model has {num_params:,} trainable parameters')"
   ]
  },
  {
   "cell_type": "code",
   "execution_count": 4,
   "id": "6a2a6d73",
   "metadata": {},
   "outputs": [],
   "source": [
    "gs_w2v_pretrained = gensim.downloader.load('word2vec-google-news-300')"
   ]
  },
  {
   "cell_type": "code",
   "execution_count": 5,
   "id": "9a6bbcde",
   "metadata": {
    "scrolled": true
   },
   "outputs": [
    {
     "name": "stderr",
     "output_type": "stream",
     "text": [
      "\r",
      "  0%|                                                                                                     | 0/384639 [00:00<?, ?it/s]"
     ]
    },
    {
     "name": "stdout",
     "output_type": "stream",
     "text": [
      "1630.44921875\n"
     ]
    },
    {
     "name": "stderr",
     "output_type": "stream",
     "text": [
      "  0%|                                                                                         | 14/384639 [00:04<25:00:09,  4.27it/s]"
     ]
    },
    {
     "name": "stdout",
     "output_type": "stream",
     "text": [
      " \n",
      "  ##########PREDICTED##########:  \n",
      " involving_tugs_barges Banks_Tony_Yayo Jared_Sullinger, \n",
      " ##########TARGET##########:  \n",
      " Chronicles no no\n"
     ]
    },
    {
     "name": "stderr",
     "output_type": "stream",
     "text": [
      "  0%|▏                                                                                         | 980/384639 [00:07<20:15, 315.64it/s]"
     ]
    },
    {
     "name": "stdout",
     "output_type": "stream",
     "text": [
      "58635.2890625\n"
     ]
    },
    {
     "name": "stderr",
     "output_type": "stream",
     "text": [
      "  0%|▏                                                                                      | 1048/384639 [00:55<30:04:20,  3.54it/s]"
     ]
    },
    {
     "name": "stdout",
     "output_type": "stream",
     "text": [
      " \n",
      "  ##########PREDICTED##########:  \n",
      " horns Vavruska hazel_eyes_flared Vavruska Vavruska hazel_eyes_flared Vavruska jarringly_incorrect Vavruska Vavruska Vavruska Vavruska Vavruska Vavruska Vavruska Vavruska Vavruska Vavruska Vavruska Vavruska Vavruska hazel_eyes_flared Vavruska Vavruska Vavruska Vavruska Vavruska Vavruska Vavruska HHWW jarringly_incorrect Vavruska Vavruska Vavruska Vavruska Vavruska Vavruska Vavruska hazel_eyes_flared Vavruska Vavruska Vavruska Vavruska Vavruska Vavruska Vavruska hazel_eyes_flared Vavruska Vavruska Vavruska hazel_eyes_flared Vizzutti Vavruska jarringly_incorrect hazel_eyes_flared Vavruska Vavruska Vavruska Vavruska Vavruska Vavruska hazel_eyes_flared Vavruska Vavruska Vavruska Vavruska Vavruska Vavruska Vavruska Vavruska Vavruska Vavruska hazel_eyes_flared Benzel Vavruska Vavruska Vavruska Vavruska Vavruska Vavruska Vavruska Vavruska Vavruska Vavruska Vavruska Vavruska Schieferstein Vavruska Vavruska Vavruska Vavruska hazel_eyes_flared Vavruska, \n",
      " ##########TARGET##########:  \n",
      " writing ideas for over songs Townsend stated he is finally going finish the whole project followed by the announcement the album will be released on October The recording process started in May the final project includes the album TV program live show with big graphic novel comic documentary The album itself is double album with disc one being the main album disc two featuring Devin Townsend Project material according Townsend the album theme is against the world The Devin Townsend Project disc is called Sky Blue the disc is called Dark After After\n"
     ]
    },
    {
     "name": "stderr",
     "output_type": "stream",
     "text": [
      "  1%|▍                                                                                        | 1997/384639 [00:58<14:36, 436.36it/s]"
     ]
    },
    {
     "name": "stdout",
     "output_type": "stream",
     "text": [
      "10677.0732421875\n"
     ]
    },
    {
     "name": "stderr",
     "output_type": "stream",
     "text": [
      "\r",
      "  1%|▍                                                                                       | 2042/384639 [01:07<6:40:35, 15.92it/s]"
     ]
    },
    {
     "name": "stdout",
     "output_type": "stream",
     "text": [
      " \n",
      "  ##########PREDICTED##########:  \n",
      " Renewable_Obligation Jack_Niedenthal Jack_Niedenthal Jack_Niedenthal Jack_Niedenthal Jack_Niedenthal Renewable_Obligation Jack_Niedenthal Renewable_Obligation Jack_Niedenthal Atoll Atoll Jack_Niedenthal Operation_Valkyrie Jack_Niedenthal Jack_Niedenthal Jack_Niedenthal, \n",
      " ##########TARGET##########:  \n",
      " is incompatible with strong acids halogenated acids oxidizers when exposed newly formed hydrogen it may The The\n"
     ]
    },
    {
     "name": "stderr",
     "output_type": "stream",
     "text": [
      "  1%|▋                                                                                        | 2977/384639 [01:09<16:03, 396.22it/s]"
     ]
    },
    {
     "name": "stdout",
     "output_type": "stream",
     "text": [
      "8490.625\n"
     ]
    },
    {
     "name": "stderr",
     "output_type": "stream",
     "text": [
      "  1%|▋                                                                                       | 3064/384639 [01:16<3:42:00, 28.65it/s]"
     ]
    },
    {
     "name": "stdout",
     "output_type": "stream",
     "text": [
      " \n",
      "  ##########PREDICTED##########:  \n",
      " Cheverus Cheverus Cheverus poisoned_baits Cheverus Cheverus Cheverus ENTERPRISE Cheverus Cheverus RSA_FraudAction_Research Cheverus Cheverus, \n",
      " ##########TARGET##########:  \n",
      " on Palestinian attitudes during the Gulf war Journal Palestine Studies 3 sur sur\n"
     ]
    },
    {
     "name": "stderr",
     "output_type": "stream",
     "text": [
      "  1%|▉                                                                                        | 3966/384639 [01:19<17:38, 359.52it/s]"
     ]
    },
    {
     "name": "stdout",
     "output_type": "stream",
     "text": [
      "197268.25\n"
     ]
    },
    {
     "name": "stderr",
     "output_type": "stream",
     "text": [
      "  1%|▉                                                                                      | 4042/384639 [04:01<94:17:14,  1.12it/s]"
     ]
    },
    {
     "name": "stdout",
     "output_type": "stream",
     "text": [
      " \n",
      "  ##########PREDICTED##########:  \n",
      " Peter_Prodromou Commissioner_Jamie_Zaninovich Commissioner_Jamie_Zaninovich Kate_Bostock Kate_Bostock Kate_Bostock Kate_Bostock Kate_Bostock Kate_Bostock Kate_Bostock Kate_Bostock Kate_Bostock Kate_Bostock Peter_Prodromou Kate_Bostock Kate_Bostock Kate_Bostock Kate_Bostock Kate_Bostock Kate_Bostock Kate_Bostock Kate_Bostock Kate_Bostock Kate_Bostock Kate_Bostock Kate_Bostock Kate_Bostock Kate_Bostock Kate_Bostock Commissioner_Jamie_Zaninovich Kate_Bostock styling_cues Kate_Bostock Kate_Bostock Bertone Dasburg Kate_Bostock Peter_Prodromou Kate_Bostock Kate_Bostock Kate_Bostock Kate_Bostock Kate_Bostock Peter_Prodromou Kate_Bostock Peter_Prodromou Kate_Bostock Kate_Bostock Commissioner_Jamie_Zaninovich Kate_Bostock Kate_Bostock Peter_Prodromou Kate_Bostock Kate_Bostock Kate_Bostock Kate_Bostock Kate_Bostock Dasburg Kate_Bostock Kate_Bostock Kate_Bostock Kate_Bostock Nordstrom.com Kate_Bostock Kate_Bostock Peter_Prodromou Kate_Bostock Kate_Bostock Dasburg Kate_Bostock Kate_Bostock Kate_Bostock Kate_Bostock Bertone Dasburg Kate_Bostock Kate_Bostock Kate_Bostock Kate_Bostock Kate_Bostock Kate_Bostock Kate_Bostock Kate_Bostock Kate_Bostock Kate_Bostock Kate_Bostock Kate_Bostock Kate_Bostock styling_cues Kate_Bostock styling_cues Kate_Bostock Kate_Bostock Peter_Prodromou styling_cues Kate_Bostock Dasburg Kate_Bostock Kate_Bostock Kate_Bostock Kate_Bostock Kate_Bostock Kate_Bostock Bertelli Bertelli Bertelli Bertelli Kate_Bostock Kate_Bostock Kate_Bostock Peter_Prodromou Kate_Bostock Peter_Prodromou Kate_Bostock Kate_Bostock Kate_Bostock Kate_Bostock Kate_Bostock Kate_Bostock Bertelli Bertelli Kate_Bostock Bertelli Bertelli Kate_Bostock Kate_Bostock Kate_Bostock Kate_Bostock Kate_Bostock Kate_Bostock Kate_Bostock Kate_Bostock Kate_Bostock Kate_Bostock Kate_Bostock Kate_Bostock Kate_Bostock Kate_Bostock Kate_Bostock Kate_Bostock Kate_Bostock Kate_Bostock Bertone Kate_Bostock Kate_Bostock Kate_Bostock Kate_Bostock Dasburg Commissioner_Jamie_Zaninovich Kate_Bostock Kate_Bostock Dasburg Kate_Bostock styling_cues Kate_Bostock Kate_Bostock Kate_Bostock Kate_Bostock Kate_Bostock Kate_Bostock Commissioner_Jamie_Zaninovich Kate_Bostock Kate_Bostock Kate_Bostock Kate_Bostock Bertone Kate_Bostock Dasburg Kate_Bostock Kate_Bostock styling_cues Kate_Bostock Commissioner_Jamie_Zaninovich styling_cues Kate_Bostock Kate_Bostock Kate_Bostock styling_cues Kate_Bostock Bertone Kate_Bostock Kate_Bostock Kate_Bostock Kate_Bostock Kate_Bostock Dasburg Kate_Bostock Kate_Bostock Commissioner_Jamie_Zaninovich Kate_Bostock styling_cues Kate_Bostock Kate_Bostock Kate_Bostock Kate_Bostock Peter_Prodromou Kate_Bostock Kate_Bostock Kate_Bostock Commissioner_Jamie_Zaninovich Kate_Bostock Kate_Bostock Kate_Bostock Kate_Bostock Kate_Bostock Kate_Bostock styling_cues Kate_Bostock Kate_Bostock Kate_Bostock Kate_Bostock Peter_Prodromou Kate_Bostock styling_cues Kate_Bostock Kate_Bostock Kate_Bostock Kate_Bostock styling_cues Kate_Bostock Dasburg Kate_Bostock Kate_Bostock Kate_Bostock Peter_Prodromou Kate_Bostock Kate_Bostock Kate_Bostock Kate_Bostock Commissioner_Jamie_Zaninovich Kate_Bostock Kate_Bostock Kate_Bostock Kate_Bostock styling_cues Dasburg Peter_Prodromou Kate_Bostock Kate_Bostock Kate_Bostock Kate_Bostock Peter_Prodromou Kate_Bostock Kate_Bostock Kate_Bostock Kate_Bostock Kate_Bostock Bertone Bertone Kate_Bostock Kate_Bostock Peter_Prodromou Kate_Bostock Kate_Bostock Kate_Bostock Kate_Bostock Kate_Bostock Kate_Bostock Kate_Bostock Kate_Bostock Kate_Bostock Peter_Prodromou Kate_Bostock Kate_Bostock Commissioner_Jamie_Zaninovich Peter_Prodromou Kate_Bostock Kate_Bostock Kate_Bostock Kate_Bostock Kate_Bostock Kate_Bostock Kate_Bostock Kate_Bostock Kate_Bostock Peter_Prodromou Kate_Bostock Kate_Bostock Kate_Bostock Kate_Bostock Peter_Prodromou Kate_Bostock Kate_Bostock Kate_Bostock Kate_Bostock Kate_Bostock Kate_Bostock Kate_Bostock Kate_Bostock Kate_Bostock Kate_Bostock Kate_Bostock Kate_Bostock Kate_Bostock Kate_Bostock Peter_Prodromou Kate_Bostock Kate_Bostock Kate_Bostock Kate_Bostock Kate_Bostock Kate_Bostock Kate_Bostock Kate_Bostock Kate_Bostock Kate_Bostock Bertelli Kate_Bostock, \n",
      " ##########TARGET##########:  \n",
      " Arkell Newcastle 1 c4 c5 2 g3 g6 3 Bg2 Bg7 4 Nc3 Nc6 5 a3 a6 6 Rb1 Rb8 7 b4 8 axb4 b5 9 axb5 Here Rowson remarks Both sides want push their d pawn play Bf4 Bf5 but White has go first so Black gets play d5 before White can play d4 This doesn matter much but it already points the challenge that White faces here his most natural continuations allow Black play the moves he wants I would therefore say that White is in Zugzwang Lite that he remains in this state for several moves Nf3 d5 Nf6 0 0 0 0 d6 Bd7 would transpose the Portisch Tal game below d4 Nf6 Bf4 0 0 Bf5 0 0 Ne5 Ne4 h3 h5 Finally breaking the symmetry The position is still almost symmetrical White can find nothing useful do with his extra move Rowson whimsically suggests forcing Black be the one break the symmetry Re8 Rowson notes that this is useful waiting move covering e7 which needs protection in some lines possibly supporting an eventual e5 see Black twenty second move White cannot copy it since after Black would win pawn Be3 Nxe5 dxe5 Rowson notes that with his more active pieces It looks like Black has some initiative If now Bxe5 is at least equal for Black Bxe5 wins Nd4 Bxd4 Bxd4 e5 Rowson writes Now both sides have their trumps but I think Black has some advantage due his extra central control imposing knight prospects for kingside attack b5 Rc8 Bb2 d4 Now White has difficult game Rowson analyzes Bc2 Bc4 winning hxg4 Bc2 winning Rc2 with advantage risky looking but perhaps best Nc3 Black is better b6 Overlooking Black threat If Bc2 forks White queen rook Ne4 b7 Rb8 g4 hxg4 hxg4 Be6 Nf6 Qxf6 Bc4 g5 + 0 The The\n"
     ]
    },
    {
     "name": "stderr",
     "output_type": "stream",
     "text": [
      "  1%|█▏                                                                                       | 4991/384639 [04:04<17:44, 356.65it/s]"
     ]
    },
    {
     "name": "stdout",
     "output_type": "stream",
     "text": [
      "1960.3035888671875\n"
     ]
    },
    {
     "name": "stderr",
     "output_type": "stream",
     "text": [
      "\r",
      "  1%|█▏                                                                                      | 5028/384639 [04:06<1:41:55, 62.07it/s]"
     ]
    },
    {
     "name": "stdout",
     "output_type": "stream",
     "text": [
      " \n",
      "  ##########PREDICTED##########:  \n",
      " Gamebird Gamebird Gamebird, \n",
      " ##########TARGET##########:  \n",
      " Ellis Warren Warren\n"
     ]
    },
    {
     "name": "stderr",
     "output_type": "stream",
     "text": [
      "  2%|█▍                                                                                       | 5996/384639 [04:08<15:50, 398.48it/s]"
     ]
    },
    {
     "name": "stdout",
     "output_type": "stream",
     "text": [
      "76156.3046875\n"
     ]
    },
    {
     "name": "stderr",
     "output_type": "stream",
     "text": [
      "  2%|█▎                                                                                     | 6032/384639 [05:09<42:52:01,  2.45it/s]"
     ]
    },
    {
     "name": "stdout",
     "output_type": "stream",
     "text": [
      " \n",
      "  ##########PREDICTED##########:  \n",
      " SINGAPORE_Reuters Mile_Island RIO_TINTO_RIO.L Golden_Gate_Bridge Onchan_Commissioners ID_nN######## Mile_Island Mile_Island union_Bectu ID_nN######## Mile_Island RIO_TINTO_RIO.L FRANKFURT_Reuters Mile_Island Mile_Island Mile_Island Mile_Island Mile_Island LAGOS_Reuters Mile_Island Mile_Island Mile_Island Mile_Island Dreamspace Mile_Island Mile_Island Mile_Island Mile_Island Mile_Island Mile_Island Mile_Island Mile_Island Mile_Island Mile_Island Mile_Island Mile_Island Mile_Island Mile_Island Golden_Gate_Bridge Mile_Island Mile_Island Mile_Island Mile_Island Mile_Island Mile_Island Mile_Island Mile_Island SINGAPORE_Reuters Mile_Island union_Bectu www.bnd.com Mile_Island Mile_Island Mile_Island Mile_Island Mile_Island Mile_Island Mile_Island Mile_Island Mile_Island RIO_TINTO_RIO.L Telemark_Lodge Mile_Island substitute_Erik_Nevland Mile_Island Mile_Island Mile_Island Mile_Island Mile_Island Mile_Island Mile_Island Mile_Island Mile_Island union_Bectu ID_nN######## ID_nN######## Mile_Island Cantabrians Mile_Island Mile_Island Mile_Island ID_nN######## Mile_Island Mile_Island ID_nN######## Mile_Island Mile_Island Mile_Island Mile_Island Eurostocks Mile_Island Mile_Island ID_nN######## Mile_Island Mile_Island Mile_Island Mile_Island Mile_Island Mile_Island ID_nN######## Mile_Island Mile_Island Mile_Island union_Bectu Mile_Island Mile_Island Mile_Island RIO_TINTO_RIO.L Mile_Island Mile_Island RIO_TINTO_RIO.L Mile_Island Mile_Island Mile_Island WFEA Mile_Island Mile_Island Mile_Island Mile_Island, \n",
      " ##########TARGET##########:  \n",
      " Kody Meri go Mexico celebrate their twentieth wedding anniversary where Meri discussed her sadness about her infertility problems the jealousy that has arisen from Kody engagement Robyn Kody proposes in vitro but she turns down the idea as she is only interested in naturally occurring conception As Robyn wedding approaches the three sister wives help Robyn prepare they begin bond However Kody upsets his wives when he reveals he secretly chose Robyn wedding dress himself which makes Christine feel so betrayed that she angrily walks away in mid interview Kody eventually apologizes the five reconcile The first season finale ends with the wedding Kody Robyn where Meri Janelle Christine present her with ring welcome her into the Season Season\n"
     ]
    },
    {
     "name": "stderr",
     "output_type": "stream",
     "text": [
      "  2%|█▌                                                                                       | 6979/384639 [05:12<19:30, 322.78it/s]"
     ]
    },
    {
     "name": "stdout",
     "output_type": "stream",
     "text": [
      "65764.8046875\n"
     ]
    },
    {
     "name": "stderr",
     "output_type": "stream",
     "text": [
      "  2%|█▌                                                                                     | 7040/384639 [06:03<32:50:30,  3.19it/s]"
     ]
    },
    {
     "name": "stdout",
     "output_type": "stream",
     "text": [
      " \n",
      "  ##########PREDICTED##########:  \n",
      " Insider_Trading Insider_Trading Insider_Trading thinnish persistant Insider_Trading Insider_Trading apprehends Dispelling_rumors pound_wahoo option_expiries apprehends Insider_Trading Insider_Trading Insider_Trading Insider_Trading option_expiries Insider_Trading persistant Insider_Trading Insider_Trading Insider_Trading Insider_Trading Insider_Trading persistant persistant Notch_kimberlite Insider_Trading Insider_Trading Insider_Trading Aravali_hills Insider_Trading Insider_Trading Insider_Trading Insider_Trading Insider_Trading option_expiries schnitzeling Insider_Trading Insider_Trading option_expiries Aravali_hills trico Insider_Trading Ashwani_Gujral_Market Insider_Trading Insider_Trading Insider_Trading Insider_Trading Insider_Trading Ashwani_Gujral_Market Insider_Trading Insider_Trading Insider_Trading Insider_Trading Insider_Trading Insider_Trading Insider_Trading Insider_Trading Insider_Trading uridashi_issuance Insider_Trading Insider_Trading Insider_Trading Insider_Trading option_expiries uridashi_issuance Insider_Trading Insider_Trading Insider_Trading Insider_Trading Insider_Trading Insider_Trading Ashwani_Gujral_Market uridashi_issuance Insider_Trading option_expiries Insider_Trading option_expiries option_expiries Insider_Trading Insider_Trading Insider_Trading Insider_Trading trico option_expiries uridashi_issuance Insider_Trading Insider_Trading Insider_Trading Insider_Trading Insider_Trading Insider_Trading ForexLive_European Insider_Trading Insider_Trading Insider_Trading Insider_Trading Insider_Trading Insider_Trading Insider_Trading Insider_Trading option_expiries PRNewswire_MonsterStox.com, \n",
      " ##########TARGET##########:  \n",
      " promote the album release Scotti Brothers Records purchased full page ads in Billboard magazine that advertised the release as Yankovic biggest bash yet Unlike previous albums Yankovic did not undertake tour promote Polka Party Instead he opened for the American rock band The Monkees Yankovic later joked that the Monkees merely closed for me Yankovic explained that while it was fun tour that the crowds were very enthusiastic the tension between the Monkees was obvious on his website he wrote that while the band members are all terrific people individually they didn seem get along all that great when they weren on Critical Critical\n"
     ]
    },
    {
     "name": "stderr",
     "output_type": "stream",
     "text": [
      "  2%|█▊                                                                                       | 7998/384639 [06:06<18:05, 347.09it/s]"
     ]
    },
    {
     "name": "stdout",
     "output_type": "stream",
     "text": [
      "639.5805053710938\n"
     ]
    },
    {
     "name": "stderr",
     "output_type": "stream",
     "text": [
      "\r",
      "  2%|█▊                                                                                       | 8034/384639 [06:07<47:35, 131.89it/s]"
     ]
    },
    {
     "name": "stdout",
     "output_type": "stream",
     "text": [
      " \n",
      "  ##########PREDICTED##########:  \n",
      " Michelle_Larcher_De, \n",
      " ##########TARGET##########:  \n",
      " As\n"
     ]
    },
    {
     "name": "stderr",
     "output_type": "stream",
     "text": [
      "  2%|██                                                                                       | 8982/384639 [06:09<18:09, 344.73it/s]"
     ]
    },
    {
     "name": "stdout",
     "output_type": "stream",
     "text": [
      "95111.125\n"
     ]
    },
    {
     "name": "stderr",
     "output_type": "stream",
     "text": [
      "  2%|██                                                                                     | 9019/384639 [07:26<58:40:29,  1.78it/s]"
     ]
    },
    {
     "name": "stdout",
     "output_type": "stream",
     "text": [
      " \n",
      "  ##########PREDICTED##########:  \n",
      " NYCN Gumaa Syed_Bukhari PSRB PSRB PSRB Aysha_Bary goalkeeper_Jaime_Penedo sidestepped Mayor_Gene_Pielin Aysha_Bary PSRB Aysha_Bary Syed_Bukhari Mayor_Gene_Pielin Aysha_Bary Syed_Bukhari Syed_Bukhari sidestepped NYCN Afrikaner_nationalists sidestepped PSRB Aysha_Bary Aysha_Bary NYCN Afrikaner_nationalists goalkeeper_Jaime_Penedo Aysha_Bary PSRB goalkeeper_Jaime_Penedo sidestepped Sjodin_abduction Sjodin_abduction Sjodin_abduction PSRB goalkeeper_Jaime_Penedo PSRB PSRB sidestepped Afrikaner_nationalists Afrikaner_nationalists Aysha_Bary PSRB sidestepped PSRB goalkeeper_Jaime_Penedo Afrikaner_nationalists PSRB PSRB sidestepped sidestepped sidestepped NYCN PSRB Afrikaner_nationalists sidestepped PSRB sidestepped goalkeeper_Jaime_Penedo PSRB sidestepped goalkeeper_Jaime_Penedo sidestepped Afrikaner_nationalists sidestepped PSRB PSRB Syed_Bukhari PSRB PSRB Aysha_Bary Aysha_Bary Syed_Bukhari economist_Samir_Hleileh Niesiolowski NYCN NYCN goalkeeper_Jaime_Penedo Mayor_Gene_Pielin NYCN sidestepped PSRB goalkeeper_Jaime_Penedo Syed_Bukhari Aysha_Bary Syed_Bukhari goalkeeper_Jaime_Penedo Aysha_Bary sidestepped Aysha_Bary PSRB NYCN PSRB Omerovic goalkeeper_Jaime_Penedo Syed_Bukhari sidestepped PSRB goalkeeper_Jaime_Penedo Afrikaner_nationalists Afrikaner_nationalists PSRB PSRB Aysha_Bary sidestepped PSRB Lance_Davids PSRB sidestepped NYCN PSRB PSRB Aysha_Bary NYCN Afrikaner_nationalists Lance_Davids Gumaa sidestepped NYCN NYCN PSRB NYCN PSRB Aysha_Bary PSRB Syed_Bukhari goalkeeper_Jaime_Penedo Sjodin_abduction Syed_Bukhari economist_Samir_Hleileh PSRB PSRB Aysha_Bary Afrikaner_nationalists sidestepped Aysha_Bary PSRB NYCN PSRB goalkeeper_Jaime_Penedo Syed_Bukhari goalkeeper_Jaime_Penedo PSRB sidestepped PSRB Lance_Davids Afrikaner_nationalists Mayor_Gene_Pielin, \n",
      " ##########TARGET##########:  \n",
      " Dunamis the adventurous son Stahn lives at an orphanage run by With the orphanage on the brink bankruptcy Kyle defies his mother go on quest search for funds together with his best friend Loni Finding giant Lens mysterious girl named emerges from it claiming be in search hero Believing that he should become hero like his parents he follows so he can prove himself as such Finding the Lens missing officials from the Order arrest Kyle Lori for its theft They escape with the help the masked swordsman Judas After this Kyle becomes embroiled in the attempts by man named kill those who accompanied his parents eventually learning that also killed Stahn when Kyle was five During his quest series Lens thefts is orchestrated by the Holy Woman the Order who is capable performing miracles using Lens seeks bring happiness the world through uniting it under single During During\n"
     ]
    },
    {
     "name": "stderr",
     "output_type": "stream",
     "text": [
      "  3%|██▎                                                                                      | 9996/384639 [07:29<18:57, 329.36it/s]"
     ]
    },
    {
     "name": "stdout",
     "output_type": "stream",
     "text": [
      "644.109619140625\n"
     ]
    },
    {
     "name": "stderr",
     "output_type": "stream",
     "text": [
      "\r",
      "  3%|██▎                                                                                     | 10030/384639 [07:29<45:37, 136.82it/s]"
     ]
    },
    {
     "name": "stdout",
     "output_type": "stream",
     "text": [
      " \n",
      "  ##########PREDICTED##########:  \n",
      " amusement_arcade, \n",
      " ##########TARGET##########:  \n",
      " Just\n"
     ]
    },
    {
     "name": "stderr",
     "output_type": "stream",
     "text": [
      "  3%|██▌                                                                                     | 10985/384639 [07:32<17:37, 353.29it/s]"
     ]
    },
    {
     "name": "stdout",
     "output_type": "stream",
     "text": [
      "83722.21875\n"
     ]
    },
    {
     "name": "stderr",
     "output_type": "stream",
     "text": [
      "  3%|██▍                                                                                   | 11057/384639 [08:35<31:50:47,  3.26it/s]"
     ]
    },
    {
     "name": "stdout",
     "output_type": "stream",
     "text": [
      " \n",
      "  ##########PREDICTED##########:  \n",
      " riotously_colorful Bittersweets Seo_Hee Bittersweets riotously_colorful riotously_colorful riotously_colorful Bittersweets Bittersweets riotously_colorful Bittersweets Seo_Hee riotously_colorful Bittersweets Bittersweets riotously_colorful riotously_colorful Bittersweets THE_COLOR Bittersweets THE_COLOR THE_COLOR DISTORTED Bittersweets Bittersweets riotously_colorful Bittersweets Bittersweets Seo_Hee Sparkling_Planet Bittersweets Bittersweets Bittersweets Bittersweets Bittersweets Bittersweets Bittersweets riotously_colorful Bittersweets Bittersweets Yoo Bittersweets Bittersweets Bittersweets Bittersweets Bittersweets Seo_Hee DISTORTED Bittersweets Bittersweets Bittersweets THE_COLOR Bittersweets Bittersweets riotously_colorful Bittersweets Bittersweets riotously_colorful Bittersweets Farrokhzad Bittersweets Bittersweets riotously_colorful Seo_Hee Bittersweets Bittersweets Bittersweets riotously_colorful Bittersweets Bittersweets Bittersweets Bittersweets Bittersweets Bittersweets Bittersweets Bittersweets Bittersweets riotously_colorful Bittersweets Bittersweets riotously_colorful Bittersweets riotously_colorful riotously_colorful Bittersweets THE_COLOR Bittersweets Bittersweets Bittersweets Bittersweets Bittersweets Bittersweets Bittersweets Bittersweets Bittersweets Bittersweets Bittersweets riotously_colorful DISTORTED riotously_colorful Bittersweets Bittersweets Bittersweets Bittersweets Bittersweets Bittersweets Bittersweets Bittersweets Bittersweets wanabees Bittersweets Bittersweets Bittersweets Bittersweets Bittersweets Bittersweets Bittersweets THE_COLOR Bittersweets THE_COLOR riotously_colorful Bittersweets Bittersweets Bittersweets Bittersweets riotously_colorful Bittersweets Bittersweets THE_COLOR Bittersweets, \n",
      " ##########TARGET##########:  \n",
      " started his professional career with Bradford City where he made his senior debut in He played six seasons at Valley Parade during which time he won the Division Three championship title which was overshadowed by the Bradford City stadium fire when people died in which his father Andy was injured After missing out on promotion in McCall moved Everton for whom he scored twice but finished on the losing side in the FA Cup Final In he moved Rangers with whom he spent seven seasons won six league titles three Scottish Cups two Scottish League Cups McCall returned Bradford City as captain take them into the top division English football for the first time in years After four seasons he moved Sheffield United where he retired as player Born Born\n"
     ]
    },
    {
     "name": "stderr",
     "output_type": "stream",
     "text": [
      "  3%|██▋                                                                                     | 11965/384639 [08:37<17:08, 362.36it/s]"
     ]
    },
    {
     "name": "stdout",
     "output_type": "stream",
     "text": [
      "636.5502319335938\n"
     ]
    },
    {
     "name": "stderr",
     "output_type": "stream",
     "text": [
      "  3%|██▊                                                                                     | 12041/384639 [08:38<34:11, 181.66it/s]"
     ]
    },
    {
     "name": "stdout",
     "output_type": "stream",
     "text": [
      " \n",
      "  ##########PREDICTED##########:  \n",
      " massive_sulfide, \n",
      " ##########TARGET##########:  \n",
      " series\n"
     ]
    },
    {
     "name": "stderr",
     "output_type": "stream",
     "text": [
      "  3%|██▉                                                                                     | 12990/384639 [08:41<19:29, 317.70it/s]"
     ]
    },
    {
     "name": "stdout",
     "output_type": "stream",
     "text": [
      "43964.06640625\n"
     ]
    },
    {
     "name": "stderr",
     "output_type": "stream",
     "text": [
      "  3%|██▉                                                                                   | 13033/384639 [09:15<26:08:51,  3.95it/s]"
     ]
    },
    {
     "name": "stdout",
     "output_type": "stream",
     "text": [
      " \n",
      "  ##########PREDICTED##########:  \n",
      " Telstra_ADSL Telstra_ADSL Harness BIXI_bikes JW_Steakhouse Samoline Telstra_ADSL Telstra_ADSL Telstra_ADSL Truckstop.net Telstra_ADSL Telstra_ADSL Telstra_ADSL Telstra_ADSL Telstra_ADSL Telstra_ADSL Telstra_ADSL Telstra_ADSL Samoline Telstra_ADSL Telstra_ADSL Truckstop.net Telstra_ADSL Telstra_ADSL Samoline Telstra_ADSL Telstra_ADSL JW_Steakhouse Telstra_ADSL Telstra_ADSL Telstra_ADSL Telstra_ADSL Telstra_ADSL Telstra_ADSL Telstra_ADSL Telstra_ADSL Telstra_ADSL Telstra_ADSL Telstra_ADSL Telstra_ADSL Telstra_ADSL Telstra_ADSL Telstra_ADSL Telstra_ADSL Telstra_ADSL Telstra_ADSL Telstra_ADSL Telstra_ADSL Telstra_ADSL Telstra_ADSL Telstra_ADSL Telstra_ADSL Telstra_ADSL Telstra_ADSL Telstra_ADSL Telstra_ADSL Telstra_ADSL Telstra_ADSL Telstra_ADSL actively_pursuing Truckstop.net Telstra_ADSL Telstra_ADSL Telstra_ADSL Telstra_ADSL Telstra_ADSL Telstra_ADSL Telstra_ADSL Telstra_ADSL Samoline, \n",
      " ##########TARGET##########:  \n",
      " with Weldon Irvine Simone turned the late Lorraine Hansberry unfinished play To Be Young Gifted Black into civil rights song Hansberry had been personal friend whom Simone credited with cultivating her social political consciousness She performed the song live on the album Black Gold A studio recording was released as single renditions the song have been recorded by Aretha Franklin on her album Young Gifted Black by Donny Later Later\n"
     ]
    },
    {
     "name": "stderr",
     "output_type": "stream",
     "text": [
      "  4%|███▏                                                                                    | 13988/384639 [09:18<17:28, 353.58it/s]"
     ]
    },
    {
     "name": "stdout",
     "output_type": "stream",
     "text": [
      "8978.87890625\n"
     ]
    },
    {
     "name": "stderr",
     "output_type": "stream",
     "text": [
      "  4%|███▏                                                                                   | 14064/384639 [09:25<4:10:12, 24.68it/s]"
     ]
    },
    {
     "name": "stdout",
     "output_type": "stream",
     "text": [
      " \n",
      "  ##########PREDICTED##########:  \n",
      " dataport dataport dataport intermittency dataport Bounty_Hunter_Duane dataport Marni_Phillips Marni_Phillips dataport CNBC_Dennis_Kneale Marni_Phillips colleagues_Dewell dataport, \n",
      " ##########TARGET##########:  \n",
      " MTV Video Music Awards is an annual awards ceremony established in by Hawaii Hawaii\n"
     ]
    },
    {
     "name": "stderr",
     "output_type": "stream",
     "text": [
      "  4%|███▍                                                                                    | 14964/384639 [09:28<16:15, 378.97it/s]"
     ]
    },
    {
     "name": "stdout",
     "output_type": "stream",
     "text": [
      "649.97705078125\n"
     ]
    },
    {
     "name": "stderr",
     "output_type": "stream",
     "text": [
      "  4%|███▍                                                                                    | 15042/384639 [09:28<30:24, 202.54it/s]"
     ]
    },
    {
     "name": "stdout",
     "output_type": "stream",
     "text": [
      " \n",
      "  ##########PREDICTED##########:  \n",
      " tailback_Jesse_Lumsden, \n",
      " ##########TARGET##########:  \n",
      " Early\n"
     ]
    },
    {
     "name": "stderr",
     "output_type": "stream",
     "text": [
      "  4%|███▋                                                                                    | 15997/384639 [09:31<15:42, 391.07it/s]"
     ]
    },
    {
     "name": "stdout",
     "output_type": "stream",
     "text": [
      "42118.7890625\n"
     ]
    },
    {
     "name": "stderr",
     "output_type": "stream",
     "text": [
      "  4%|███▌                                                                                   | 16000/384639 [09:46<3:45:09, 27.29it/s]\n"
     ]
    },
    {
     "ename": "KeyboardInterrupt",
     "evalue": "",
     "output_type": "error",
     "traceback": [
      "\u001b[0;31m---------------------------------------------------------------------------\u001b[0m",
      "\u001b[0;31mKeyboardInterrupt\u001b[0m                         Traceback (most recent call last)",
      "Cell \u001b[0;32mIn[5], line 2\u001b[0m\n\u001b[1;32m      1\u001b[0m \u001b[38;5;66;03m# RNN OR LSTM\u001b[39;00m\n\u001b[0;32m----> 2\u001b[0m hidden, loss \u001b[38;5;241m=\u001b[39m \u001b[43mtrain_with_translate\u001b[49m\u001b[43m(\u001b[49m\u001b[43mmodel\u001b[49m\u001b[43m,\u001b[49m\u001b[43mgs_w2v_pretrained\u001b[49m\u001b[43m,\u001b[49m\u001b[43moptimizer\u001b[49m\u001b[43m,\u001b[49m\u001b[43mcriterion\u001b[49m\u001b[43m,\u001b[49m\u001b[43mtrain_loader\u001b[49m\u001b[43m,\u001b[49m\u001b[38;5;241;43m-\u001b[39;49m\u001b[38;5;241;43m1\u001b[39;49m\u001b[43m \u001b[49m\u001b[43m,\u001b[49m\u001b[43mdevice\u001b[49m\u001b[43m,\u001b[49m\u001b[43mhidden_exists\u001b[49m\u001b[43m \u001b[49m\u001b[38;5;241;43m=\u001b[39;49m\u001b[43m \u001b[49m\u001b[38;5;28;43;01mTrue\u001b[39;49;00m\u001b[43m,\u001b[49m\u001b[43mn_hiddens\u001b[49m\u001b[38;5;241;43m=\u001b[39;49m\u001b[43m \u001b[49m\u001b[43mn_hidden\u001b[49m\u001b[43m,\u001b[49m\u001b[43mverbose\u001b[49m\u001b[43m \u001b[49m\u001b[38;5;241;43m=\u001b[39;49m\u001b[43m \u001b[49m\u001b[38;5;28;43;01mTrue\u001b[39;49;00m\u001b[43m)\u001b[49m\n\u001b[1;32m      3\u001b[0m evaluate_with_translate(model,gs_w2v_pretrained,optimizer,criterion,val_loader,\u001b[38;5;241m-\u001b[39m\u001b[38;5;241m1\u001b[39m,device,hidden_exists \u001b[38;5;241m=\u001b[39m \u001b[38;5;28;01mTrue\u001b[39;00m,n_hiddens\u001b[38;5;241m=\u001b[39m\u001b[38;5;241m1\u001b[39m,hidden \u001b[38;5;241m=\u001b[39m hidden) \n\u001b[1;32m      4\u001b[0m \u001b[38;5;28;01mfor\u001b[39;00m epoch \u001b[38;5;129;01min\u001b[39;00m \u001b[38;5;28mrange\u001b[39m(n_epochs):\n",
      "File \u001b[0;32m~/NLP/tools/processor_functions.py:172\u001b[0m, in \u001b[0;36mtrain_with_translate\u001b[0;34m(model, w2v_model, optimizer, criterion, dataloader, epoch, device, hidden_exists, n_hiddens, hidden, verbose)\u001b[0m\n\u001b[1;32m    170\u001b[0m \u001b[38;5;28;01mfor\u001b[39;00m i \u001b[38;5;129;01min\u001b[39;00m \u001b[38;5;28mrange\u001b[39m(prediction\u001b[38;5;241m.\u001b[39mshape[\u001b[38;5;241m1\u001b[39m]):\n\u001b[1;32m    171\u001b[0m     prediction_word \u001b[38;5;241m=\u001b[39m w2v_model\u001b[38;5;241m.\u001b[39msimilar_by_vector(np\u001b[38;5;241m.\u001b[39marray(prediction[\u001b[38;5;241m0\u001b[39m,i,:]\u001b[38;5;241m.\u001b[39mcpu()\u001b[38;5;241m.\u001b[39mdetach()),topn\u001b[38;5;241m=\u001b[39m\u001b[38;5;241m1\u001b[39m)[\u001b[38;5;241m0\u001b[39m][\u001b[38;5;241m0\u001b[39m]\n\u001b[0;32m--> 172\u001b[0m     target_word \u001b[38;5;241m=\u001b[39m \u001b[43mw2v_model\u001b[49m\u001b[38;5;241;43m.\u001b[39;49m\u001b[43msimilar_by_vector\u001b[49m\u001b[43m(\u001b[49m\u001b[43mnp\u001b[49m\u001b[38;5;241;43m.\u001b[39;49m\u001b[43marray\u001b[49m\u001b[43m(\u001b[49m\u001b[43mtarget\u001b[49m\u001b[43m[\u001b[49m\u001b[38;5;241;43m0\u001b[39;49m\u001b[43m,\u001b[49m\u001b[43mi\u001b[49m\u001b[43m,\u001b[49m\u001b[43m:\u001b[49m\u001b[43m]\u001b[49m\u001b[38;5;241;43m.\u001b[39;49m\u001b[43mcpu\u001b[49m\u001b[43m(\u001b[49m\u001b[43m)\u001b[49m\u001b[38;5;241;43m.\u001b[39;49m\u001b[43mdetach\u001b[49m\u001b[43m(\u001b[49m\u001b[43m)\u001b[49m\u001b[43m)\u001b[49m\u001b[43m,\u001b[49m\u001b[43mtopn\u001b[49m\u001b[38;5;241;43m=\u001b[39;49m\u001b[38;5;241;43m1\u001b[39;49m\u001b[43m)\u001b[49m[\u001b[38;5;241m0\u001b[39m][\u001b[38;5;241m0\u001b[39m]\n\u001b[1;32m    173\u001b[0m     pred_words\u001b[38;5;241m.\u001b[39mappend(prediction_word)\n\u001b[1;32m    174\u001b[0m     target_words\u001b[38;5;241m.\u001b[39mappend(target_word)\n",
      "File \u001b[0;32m~/.local/lib/python3.10/site-packages/gensim/models/keyedvectors.py:914\u001b[0m, in \u001b[0;36mKeyedVectors.similar_by_vector\u001b[0;34m(self, vector, topn, restrict_vocab)\u001b[0m\n\u001b[1;32m    890\u001b[0m \u001b[38;5;28;01mdef\u001b[39;00m \u001b[38;5;21msimilar_by_vector\u001b[39m(\u001b[38;5;28mself\u001b[39m, vector, topn\u001b[38;5;241m=\u001b[39m\u001b[38;5;241m10\u001b[39m, restrict_vocab\u001b[38;5;241m=\u001b[39m\u001b[38;5;28;01mNone\u001b[39;00m):\n\u001b[1;32m    891\u001b[0m \u001b[38;5;250m    \u001b[39m\u001b[38;5;124;03m\"\"\"Find the top-N most similar keys by vector.\u001b[39;00m\n\u001b[1;32m    892\u001b[0m \n\u001b[1;32m    893\u001b[0m \u001b[38;5;124;03m    Parameters\u001b[39;00m\n\u001b[0;32m   (...)\u001b[0m\n\u001b[1;32m    912\u001b[0m \n\u001b[1;32m    913\u001b[0m \u001b[38;5;124;03m    \"\"\"\u001b[39;00m\n\u001b[0;32m--> 914\u001b[0m     \u001b[38;5;28;01mreturn\u001b[39;00m \u001b[38;5;28;43mself\u001b[39;49m\u001b[38;5;241;43m.\u001b[39;49m\u001b[43mmost_similar\u001b[49m\u001b[43m(\u001b[49m\u001b[43mpositive\u001b[49m\u001b[38;5;241;43m=\u001b[39;49m\u001b[43m[\u001b[49m\u001b[43mvector\u001b[49m\u001b[43m]\u001b[49m\u001b[43m,\u001b[49m\u001b[43m \u001b[49m\u001b[43mtopn\u001b[49m\u001b[38;5;241;43m=\u001b[39;49m\u001b[43mtopn\u001b[49m\u001b[43m,\u001b[49m\u001b[43m \u001b[49m\u001b[43mrestrict_vocab\u001b[49m\u001b[38;5;241;43m=\u001b[39;49m\u001b[43mrestrict_vocab\u001b[49m\u001b[43m)\u001b[49m\n",
      "File \u001b[0;32m~/.local/lib/python3.10/site-packages/gensim/models/keyedvectors.py:849\u001b[0m, in \u001b[0;36mKeyedVectors.most_similar\u001b[0;34m(self, positive, negative, topn, clip_start, clip_end, restrict_vocab, indexer)\u001b[0m\n\u001b[1;32m    846\u001b[0m \u001b[38;5;28;01mif\u001b[39;00m indexer \u001b[38;5;129;01mis\u001b[39;00m \u001b[38;5;129;01mnot\u001b[39;00m \u001b[38;5;28;01mNone\u001b[39;00m \u001b[38;5;129;01mand\u001b[39;00m \u001b[38;5;28misinstance\u001b[39m(topn, \u001b[38;5;28mint\u001b[39m):\n\u001b[1;32m    847\u001b[0m     \u001b[38;5;28;01mreturn\u001b[39;00m indexer\u001b[38;5;241m.\u001b[39mmost_similar(mean, topn)\n\u001b[0;32m--> 849\u001b[0m dists \u001b[38;5;241m=\u001b[39m \u001b[43mdot\u001b[49m\u001b[43m(\u001b[49m\u001b[38;5;28;43mself\u001b[39;49m\u001b[38;5;241;43m.\u001b[39;49m\u001b[43mvectors\u001b[49m\u001b[43m[\u001b[49m\u001b[43mclip_start\u001b[49m\u001b[43m:\u001b[49m\u001b[43mclip_end\u001b[49m\u001b[43m]\u001b[49m\u001b[43m,\u001b[49m\u001b[43m \u001b[49m\u001b[43mmean\u001b[49m\u001b[43m)\u001b[49m \u001b[38;5;241m/\u001b[39m \u001b[38;5;28mself\u001b[39m\u001b[38;5;241m.\u001b[39mnorms[clip_start:clip_end]\n\u001b[1;32m    850\u001b[0m \u001b[38;5;28;01mif\u001b[39;00m \u001b[38;5;129;01mnot\u001b[39;00m topn:\n\u001b[1;32m    851\u001b[0m     \u001b[38;5;28;01mreturn\u001b[39;00m dists\n",
      "File \u001b[0;32m<__array_function__ internals>:200\u001b[0m, in \u001b[0;36mdot\u001b[0;34m(*args, **kwargs)\u001b[0m\n",
      "\u001b[0;31mKeyboardInterrupt\u001b[0m: "
     ]
    }
   ],
   "source": [
    "# RNN OR LSTM\n",
    "hidden, loss = train_with_translate(model,gs_w2v_pretrained,optimizer,criterion,train_loader,-1 ,device,hidden_exists = True,n_hiddens= n_hidden,verbose = True)\n",
    "evaluate_with_translate(model,gs_w2v_pretrained,optimizer,criterion,val_loader,-1,device,hidden_exists = True,n_hiddens=1,hidden = hidden) \n",
    "for epoch in range(n_epochs):\n",
    "    hidden,loss =train_with_translate(model,gs_w2v_pretrained,optimizer,criterion,train_loader,epoch,device,hidden_exists = True,n_hiddens= n_hidden,hidden = hidden, verbose = True)\n",
    "    evaluate_with_translate(model,optimizer,criterion,val_loader,epoch,device,hidden_exists = True,n_hiddens=1,hidden = hidden) \n",
    "    torch.save(model,f'LSTM_model_epoch={epoch}_loss={loss}.pt')\n",
    "    if epoch % 10 == 0:\n",
    "        #evaluate(model,optimizer,criterion,val_loader,epoch,device,hidden_exists = hiddenexists,n_hiddens=2,hidden = hidden) \n",
    "        pass\n",
    "    \n",
    "# Transformer\n",
    "'''loss = train(model,optimizer,criterion,train_loader,-1 ,device,hidden_exists = False)\n",
    "for epoch in range(n_epochs):\n",
    "    loss = train(model,optimizer,criterion,train_loader,epoch,device,hidden_exists = False)\n",
    "    evaluate(model,optimizer,criterion,val_loader,epoch,device,hidden_exists = False) \n",
    "    if epoch % 10 == 0:\n",
    "        #evaluate(model,optimizer,criterion,val_loader,epoch,device,hidden_exists = hiddenexists,n_hiddens=2,hidden = hidden) \n",
    "        pass'''"
   ]
  },
  {
   "cell_type": "code",
   "execution_count": null,
   "id": "ef45755a",
   "metadata": {},
   "outputs": [],
   "source": [
    "torch.save(model,f'LSTM_model_epoch={epoch}_loss={loss}.pt')"
   ]
  },
  {
   "cell_type": "code",
   "execution_count": null,
   "id": "36bc3db0",
   "metadata": {},
   "outputs": [],
   "source": [
    "gs_w2v_pretrained = gensim.downloader.load('word2vec-google-news-300')\n",
    "model = torch.load('model.pt')"
   ]
  },
  {
   "cell_type": "code",
   "execution_count": null,
   "id": "4d87d0f8",
   "metadata": {},
   "outputs": [],
   "source": [
    "prompt = 'whisper words of wisdom'\n",
    "device = torch.device(\"cpu\")\n",
    "hidden = torch.zeros(1,1,300).to(device)\n",
    "generated_words = generate(model,gs_w2v_pretrained,prompt,10,device,hidden_exists = True,n_hiddens = 1,hidden = hidden)"
   ]
  },
  {
   "cell_type": "code",
   "execution_count": null,
   "id": "45ff1a2c",
   "metadata": {},
   "outputs": [],
   "source": []
  }
 ],
 "metadata": {
  "kernelspec": {
   "display_name": "Python 3 (ipykernel)",
   "language": "python",
   "name": "python3"
  },
  "language_info": {
   "codemirror_mode": {
    "name": "ipython",
    "version": 3
   },
   "file_extension": ".py",
   "mimetype": "text/x-python",
   "name": "python",
   "nbconvert_exporter": "python",
   "pygments_lexer": "ipython3",
   "version": "3.10.6"
  }
 },
 "nbformat": 4,
 "nbformat_minor": 5
}
