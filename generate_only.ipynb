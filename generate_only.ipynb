{
 "cells": [
  {
   "cell_type": "code",
   "execution_count": 1,
   "id": "8ef5e9fd",
   "metadata": {},
   "outputs": [],
   "source": [
    "from tools.generator import NLPDataset\n",
    "from tools.custom_models import RNN,LSTM\n",
    "from tools.processor_functions import train,evaluate,generate\n",
    "\n",
    "import torch\n",
    "import torch.nn as nn\n",
    "import torch.optim as optim\n",
    "from torchsummary import summary\n",
    "from torch.utils.data import DataLoader\n",
    "\n",
    "import gensim.downloader"
   ]
  },
  {
   "cell_type": "code",
   "execution_count": 2,
   "id": "0ea3adf4",
   "metadata": {},
   "outputs": [],
   "source": [
    "gs_w2v_pretrained = gensim.downloader.load('word2vec-google-news-300')"
   ]
  },
  {
   "cell_type": "code",
   "execution_count": 3,
   "id": "c9b74bd8",
   "metadata": {},
   "outputs": [],
   "source": [
    "model = torch.load('LSTM_model_epoch=0_loss=0.0218.pt')"
   ]
  },
  {
   "cell_type": "code",
   "execution_count": 9,
   "id": "c9a9d236",
   "metadata": {},
   "outputs": [
    {
     "name": "stdout",
     "output_type": "stream",
     "text": [
      "For input whisper words of wisdom\n",
      "The output is: Calixa_Lavallee Jelly_Roll_Blues Thrown_Out_Of Jelly_Roll_Blues Jelly_Roll_Blues Oscar_Nominations_Announced Oscar_Nominations_Announced Oscar_Nominations_Announced Oscar_Nominations_Announced Oscar_Nominations_Announced\n",
      "For input there will be an answer\n",
      "The output is: M.Kenseth_###-### catheters_PICCs catheters_PICCs M.Kenseth_###-### overdiagnosing_autism catheters_PICCs Charles_Benton_Musslewhite catheters_PICCs catheters_PICCs catheters_PICCs\n"
     ]
    }
   ],
   "source": [
    "prompt = \"whisper words of wisdom\"\n",
    "device = torch.device(\"cpu\")\n",
    "hidden = torch.randn(1,1,300).to(device)\n",
    "hidden_batch = [hidden,hidden]\n",
    "generated_words = generate(model,gs_w2v_pretrained,prompt,10,device,hidden_exists = True,n_hiddens = 2,hidden = hidden_batch)\n",
    "\n",
    "prompt = \"there will be an answer\"\n",
    "device = torch.device(\"cpu\")\n",
    "hidden = torch.randn(1,1,300).to(device)\n",
    "hidden_batch = [hidden,hidden]\n",
    "generated_words = generate(model,gs_w2v_pretrained,prompt,10,device,hidden_exists = True,n_hiddens = 2,hidden = hidden_batch)"
   ]
  },
  {
   "cell_type": "code",
   "execution_count": null,
   "id": "2358e784",
   "metadata": {},
   "outputs": [],
   "source": []
  },
  {
   "cell_type": "code",
   "execution_count": null,
   "id": "4fd23704",
   "metadata": {},
   "outputs": [],
   "source": []
  }
 ],
 "metadata": {
  "kernelspec": {
   "display_name": "Python 3 (ipykernel)",
   "language": "python",
   "name": "python3"
  },
  "language_info": {
   "codemirror_mode": {
    "name": "ipython",
    "version": 3
   },
   "file_extension": ".py",
   "mimetype": "text/x-python",
   "name": "python",
   "nbconvert_exporter": "python",
   "pygments_lexer": "ipython3",
   "version": "3.10.6"
  }
 },
 "nbformat": 4,
 "nbformat_minor": 5
}
